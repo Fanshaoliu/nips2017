{
 "cells": [
  {
   "cell_type": "code",
   "execution_count": 1,
   "metadata": {
    "collapsed": true
   },
   "outputs": [],
   "source": [
    "import numpy as np\n",
    "import pandas as pd\n",
    "import scipy\n",
    "import matplotlib.pyplot as plt\n",
    "import itertools\n",
    "import seaborn as sns\n",
    "from tqdm import tqdm\n",
    "from cvxpy import *\n",
    "from DTools2 import *\n",
    "from matplotlib import gridspec\n",
    "from matplotlib.patches import Rectangle\n",
    "%matplotlib inline\n"
   ]
  },
  {
   "cell_type": "markdown",
   "metadata": {},
   "source": [
    "# Data prep\n",
    "\n",
    "Import the COMPAS dataset."
   ]
  },
  {
   "cell_type": "code",
   "execution_count": 2,
   "metadata": {
    "collapsed": true
   },
   "outputs": [],
   "source": [
    "DATA_FOLDER = '../data/'\n",
    "\n",
    "df = pd.read_csv(\n",
    "    DATA_FOLDER + 'compas-scores-two-years.csv',\n",
    "    index_col=0)"
   ]
  },
  {
   "cell_type": "code",
   "execution_count": 4,
   "metadata": {
    "collapsed": false
   },
   "outputs": [
    {
     "data": {
      "text/plain": [
       "(7214, 52)"
      ]
     },
     "execution_count": 4,
     "metadata": {},
     "output_type": "execute_result"
    }
   ],
   "source": [
    "df.shape"
   ]
  },
  {
   "cell_type": "markdown",
   "metadata": {},
   "source": [
    "However not all of the rows are useable for the first round of analysis.\n",
    "\n",
    "**From the ProPublica notebook**: There are a number of reasons remove rows because of missing data:\n",
    "* If the charge date of a defendants Compas scored crime was not within 30 days from when the person was arrested, we assume that because of data quality reasons, that we do not have the right offense.\n",
    "* We coded the recidivist flag -- `is_recid` -- to be -1 if we could not find a compas case at all.\n",
    "* In a similar vein, ordinary traffic offenses -- those with a `c_charge_degree` of 'O' -- will not result in Jail time are removed (only two of them).\n",
    "* We filtered the underlying data from Broward county to include only those rows representing people who had either recidivated in two years, or had at least two years outside of a correctional facility."
   ]
  },
  {
   "cell_type": "code",
   "execution_count": 5,
   "metadata": {
    "collapsed": false
   },
   "outputs": [
    {
     "data": {
      "text/plain": [
       "['age',\n",
       " 'c_charge_degree',\n",
       " 'race',\n",
       " 'age_cat',\n",
       " 'score_text',\n",
       " 'sex',\n",
       " 'priors_count',\n",
       " 'days_b_screening_arrest',\n",
       " 'decile_score',\n",
       " 'is_recid',\n",
       " 'two_year_recid',\n",
       " 'c_jail_in',\n",
       " 'c_jail_out',\n",
       " 'length_of_stay']"
      ]
     },
     "execution_count": 5,
     "metadata": {},
     "output_type": "execute_result"
    }
   ],
   "source": [
    "df = df[['age', 'c_charge_degree', 'race', 'age_cat', 'score_text', 'sex', 'priors_count', \n",
    "                    'days_b_screening_arrest', 'decile_score', 'is_recid', 'two_year_recid', 'c_jail_in', 'c_jail_out']]\n",
    "ix = df['days_b_screening_arrest'] <= 30\n",
    "ix = (df['days_b_screening_arrest'] >= -30) & ix\n",
    "ix = (df['is_recid'] != -1) & ix\n",
    "ix = (df['c_charge_degree'] != \"O\") & ix\n",
    "ix = (df['score_text'] != 'N/A') & ix\n",
    "df = df.loc[ix,:]\n",
    "df['length_of_stay'] = (pd.to_datetime(df['c_jail_out'])-pd.to_datetime(df['c_jail_in'])).apply(lambda x: x.days)\n",
    "list(df)"
   ]
  },
  {
   "cell_type": "markdown",
   "metadata": {},
   "source": [
    "Out of interest, plot distribution of COMPAS scores (matches the one in the ProPublica article)."
   ]
  },
  {
   "cell_type": "code",
   "execution_count": 6,
   "metadata": {
    "collapsed": false
   },
   "outputs": [
    {
     "data": {
      "text/plain": [
       "(0.5, 10.5)"
      ]
     },
     "execution_count": 6,
     "metadata": {},
     "output_type": "execute_result"
    },
    {
     "data": {
      "image/png": "[encoded data removed]",
      "text/plain": [
       "<matplotlib.figure.Figure at 0x7fab67a3d5d0>"
      ]
     },
     "metadata": {},
     "output_type": "display_data"
    }
   ],
   "source": [
    "df2 = df.loc[df['race'].isin(['African-American','Caucasian']),['race','decile_score']]\n",
    "ax = df2.hist(column='decile_score',by='race',figsize=(15,5),**{'normed':False})\n",
    "ax[0].set_ylim([0,650])\n",
    "ax[1].set_ylim([0,650])\n",
    "ax[0].set_xlim([.5,10.5])\n",
    "ax[1].set_xlim([.5,10.5])"
   ]
  },
  {
   "cell_type": "markdown",
   "metadata": {},
   "source": [
    "Number of entries per decile score for each race."
   ]
  },
  {
   "cell_type": "code",
   "execution_count": 7,
   "metadata": {
    "collapsed": false
   },
   "outputs": [
    {
     "data": {
      "text/html": [
       "<div>\n",
       "<table border=\"1\" class=\"dataframe\">\n",
       "  <thead>\n",
       "    <tr style=\"text-align: right;\">\n",
       "      <th>race</th>\n",
       "      <th>African-American</th>\n",
       "      <th>Asian</th>\n",
       "      <th>Caucasian</th>\n",
       "      <th>Hispanic</th>\n",
       "      <th>Native American</th>\n",
       "      <th>Other</th>\n",
       "    </tr>\n",
       "    <tr>\n",
       "      <th>decile_score</th>\n",
       "      <th></th>\n",
       "      <th></th>\n",
       "      <th></th>\n",
       "      <th></th>\n",
       "      <th></th>\n",
       "      <th></th>\n",
       "    </tr>\n",
       "  </thead>\n",
       "  <tbody>\n",
       "    <tr>\n",
       "      <th>1</th>\n",
       "      <td>365.0</td>\n",
       "      <td>15.0</td>\n",
       "      <td>605.0</td>\n",
       "      <td>159.0</td>\n",
       "      <td>NaN</td>\n",
       "      <td>142.0</td>\n",
       "    </tr>\n",
       "    <tr>\n",
       "      <th>2</th>\n",
       "      <td>346.0</td>\n",
       "      <td>4.0</td>\n",
       "      <td>321.0</td>\n",
       "      <td>89.0</td>\n",
       "      <td>2.0</td>\n",
       "      <td>60.0</td>\n",
       "    </tr>\n",
       "    <tr>\n",
       "      <th>3</th>\n",
       "      <td>298.0</td>\n",
       "      <td>5.0</td>\n",
       "      <td>238.0</td>\n",
       "      <td>73.0</td>\n",
       "      <td>1.0</td>\n",
       "      <td>32.0</td>\n",
       "    </tr>\n",
       "    <tr>\n",
       "      <th>4</th>\n",
       "      <td>337.0</td>\n",
       "      <td>NaN</td>\n",
       "      <td>243.0</td>\n",
       "      <td>47.0</td>\n",
       "      <td>NaN</td>\n",
       "      <td>39.0</td>\n",
       "    </tr>\n",
       "    <tr>\n",
       "      <th>5</th>\n",
       "      <td>323.0</td>\n",
       "      <td>1.0</td>\n",
       "      <td>200.0</td>\n",
       "      <td>39.0</td>\n",
       "      <td>NaN</td>\n",
       "      <td>19.0</td>\n",
       "    </tr>\n",
       "    <tr>\n",
       "      <th>6</th>\n",
       "      <td>318.0</td>\n",
       "      <td>2.0</td>\n",
       "      <td>160.0</td>\n",
       "      <td>27.0</td>\n",
       "      <td>2.0</td>\n",
       "      <td>20.0</td>\n",
       "    </tr>\n",
       "    <tr>\n",
       "      <th>7</th>\n",
       "      <td>343.0</td>\n",
       "      <td>1.0</td>\n",
       "      <td>113.0</td>\n",
       "      <td>28.0</td>\n",
       "      <td>2.0</td>\n",
       "      <td>9.0</td>\n",
       "    </tr>\n",
       "    <tr>\n",
       "      <th>8</th>\n",
       "      <td>301.0</td>\n",
       "      <td>2.0</td>\n",
       "      <td>96.0</td>\n",
       "      <td>14.0</td>\n",
       "      <td>NaN</td>\n",
       "      <td>7.0</td>\n",
       "    </tr>\n",
       "    <tr>\n",
       "      <th>9</th>\n",
       "      <td>317.0</td>\n",
       "      <td>NaN</td>\n",
       "      <td>77.0</td>\n",
       "      <td>17.0</td>\n",
       "      <td>2.0</td>\n",
       "      <td>7.0</td>\n",
       "    </tr>\n",
       "    <tr>\n",
       "      <th>10</th>\n",
       "      <td>227.0</td>\n",
       "      <td>1.0</td>\n",
       "      <td>50.0</td>\n",
       "      <td>16.0</td>\n",
       "      <td>2.0</td>\n",
       "      <td>8.0</td>\n",
       "    </tr>\n",
       "  </tbody>\n",
       "</table>\n",
       "</div>"
      ],
      "text/plain": [
       "race          African-American  Asian  Caucasian  Hispanic  Native American  \\\n",
       "decile_score                                                                  \n",
       "1                        365.0   15.0      605.0     159.0              NaN   \n",
       "2                        346.0    4.0      321.0      89.0              2.0   \n",
       "3                        298.0    5.0      238.0      73.0              1.0   \n",
       "4                        337.0    NaN      243.0      47.0              NaN   \n",
       "5                        323.0    1.0      200.0      39.0              NaN   \n",
       "6                        318.0    2.0      160.0      27.0              2.0   \n",
       "7                        343.0    1.0      113.0      28.0              2.0   \n",
       "8                        301.0    2.0       96.0      14.0              NaN   \n",
       "9                        317.0    NaN       77.0      17.0              2.0   \n",
       "10                       227.0    1.0       50.0      16.0              2.0   \n",
       "\n",
       "race          Other  \n",
       "decile_score         \n",
       "1             142.0  \n",
       "2              60.0  \n",
       "3              32.0  \n",
       "4              39.0  \n",
       "5              19.0  \n",
       "6              20.0  \n",
       "7               9.0  \n",
       "8               7.0  \n",
       "9               7.0  \n",
       "10              8.0  "
      ]
     },
     "execution_count": 7,
     "metadata": {},
     "output_type": "execute_result"
    }
   ],
   "source": [
    "df.groupby(['race','decile_score']).size().reset_index().pivot(index='decile_score',columns='race',values=0)"
   ]
  },
  {
   "cell_type": "markdown",
   "metadata": {},
   "source": [
    "Drop Asian, Native American due to lack of samples"
   ]
  },
  {
   "cell_type": "code",
   "execution_count": 8,
   "metadata": {
    "collapsed": true
   },
   "outputs": [],
   "source": [
    "dfcut = df.loc[~df['race'].isin(['Native American','Hispanic','Asian','Other']),:]"
   ]
  },
  {
   "cell_type": "markdown",
   "metadata": {},
   "source": [
    "Now we quantize the dataframe. In particular, we will quantize the priors, the length of stay and the compas score."
   ]
  },
  {
   "cell_type": "code",
   "execution_count": 9,
   "metadata": {
    "collapsed": true
   },
   "outputs": [],
   "source": [
    "dfcutQ = dfcut[['sex','race','age_cat','c_charge_degree','score_text','priors_count','is_recid',\n",
    "                'two_year_recid','length_of_stay']].copy()\n",
    "\n",
    "# Quantize priors count between 0, 1-3, and >3\n",
    "def quantizePrior(x):\n",
    "    if x <=0:\n",
    "        return '0'\n",
    "    elif 1<=x<=3:\n",
    "        return '1 to 3'\n",
    "    else:\n",
    "        return 'More than 3'\n",
    "\n",
    "    \n",
    "# Quantize length of stay\n",
    "def quantizeLOS(x):\n",
    "    if x<= 7:\n",
    "        return '<week'\n",
    "    if 8<x<=93:\n",
    "        return '<3months'\n",
    "    else:\n",
    "        return '>3 months'\n",
    "    \n",
    "# Quantize length of stay\n",
    "def adjustAge(x):\n",
    "    if x == '25 - 45':\n",
    "        return '25 to 45'\n",
    "    else:\n",
    "        return x\n",
    "\n",
    "# Quantize score_text to MediumHigh\n",
    "def quantizeScore(x):\n",
    "    if (x == 'High')| (x == 'Medium'):\n",
    "        return 'MediumHigh'\n",
    "    else:\n",
    "        return x\n",
    "\n",
    "    \n",
    "dfcutQ['priors_count'] = dfcutQ['priors_count'].apply(lambda x: quantizePrior(x))\n",
    "dfcutQ['length_of_stay'] = dfcutQ['length_of_stay'].apply(lambda x: quantizeLOS(x))\n",
    "dfcutQ['score_text'] = dfcutQ['score_text'].apply(lambda x: quantizeScore(x))\n",
    "dfcutQ['age_cat'] = dfcutQ['age_cat'].apply(lambda x: adjustAge(x))\n",
    "\n"
   ]
  },
  {
   "cell_type": "markdown",
   "metadata": {},
   "source": [
    "We'll be interested, for now, in gender, race, age, charge degree, priors count, and recidivism (the Y variable)."
   ]
  },
  {
   "cell_type": "code",
   "execution_count": 10,
   "metadata": {
    "collapsed": true
   },
   "outputs": [],
   "source": [
    "#features = ['sex','race','age_cat','c_charge_degree','priors_count','is_recid']\n",
    "features = ['race','age_cat','c_charge_degree','priors_count','is_recid']\n",
    "\n",
    "# Pass vallue to df\n",
    "df = dfcutQ[features]"
   ]
  },
  {
   "cell_type": "markdown",
   "metadata": {},
   "source": [
    "Next, we do a 80-20 split of the data. The random number generator seed is fixed, so this should generate consistent splits. We automatically rename output files accordingly. Pairs of train and test dataset are stored in `df_list`."
   ]
  },
  {
   "cell_type": "code",
   "execution_count": 11,
   "metadata": {
    "collapsed": false
   },
   "outputs": [
    {
     "data": {
      "text/plain": [
       "(5278, 5)"
      ]
     },
     "execution_count": 11,
     "metadata": {},
     "output_type": "execute_result"
    }
   ],
   "source": [
    "df.shape"
   ]
  },
  {
   "cell_type": "code",
   "execution_count": 9,
   "metadata": {
    "collapsed": true
   },
   "outputs": [],
   "source": [
    "from sklearn.model_selection import ShuffleSplit\n",
    "rs = ShuffleSplit(n_splits=5, test_size=.2, random_state=888)  ### CHANGE SEED FOR DIFFERENT SPLITS!\n",
    "df_list = []\n",
    "for train_index,test_index in rs.split(df):\n",
    "    df_list.append((df.iloc[train_index,:].copy(),df.iloc[test_index,:].copy()))\n",
    "    "
   ]
  },
  {
   "cell_type": "markdown",
   "metadata": {},
   "source": [
    "We'll be interested, for now, in gender, race, age, charge degree, priors count, and recidivism (the Y variable). We initialize the optimization object."
   ]
  },
  {
   "cell_type": "code",
   "execution_count": 10,
   "metadata": {
    "collapsed": true
   },
   "outputs": [],
   "source": [
    "DT = DTools(df=df,features=features)"
   ]
  },
  {
   "cell_type": "markdown",
   "metadata": {},
   "source": [
    "Set discriminatory features (`D_features`), binary response variable (`Y_features`) and decision features (`X_features`), and initialize the Discrimination Tools class)."
   ]
  },
  {
   "cell_type": "code",
   "execution_count": 11,
   "metadata": {
    "collapsed": true
   },
   "outputs": [],
   "source": [
    "#D_features = ['sex','race']\n",
    "D_features = ['race']\n",
    "Y_features = ['is_recid']\n",
    "X_features = ['age_cat', 'c_charge_degree','priors_count']\n",
    "\n",
    "DT.setFeatures(D=D_features,X=X_features,Y=Y_features)"
   ]
  },
  {
   "cell_type": "markdown",
   "metadata": {},
   "source": [
    "Now we set the distortion metric. This function will receive the two dictionary of features X and Y corresponding to the new and old values, and return a distortion value. In this case the distortion function returns 1000 if education is lowered by any value, or increased by more than 1 year, or if age is increased or decreased by more than one decade. In returns a penalty of 1.0 if income is decreased. All other values are 0."
   ]
  },
  {
   "cell_type": "code",
   "execution_count": 12,
   "metadata": {
    "collapsed": true
   },
   "outputs": [],
   "source": [
    "class Dclass():\n",
    "# adjust education\n",
    "    def adjustPrior(self,v):\n",
    "        if v=='0':\n",
    "            return 0\n",
    "        elif v=='1 to 3':\n",
    "            return 1\n",
    "        else:\n",
    "            return 2\n",
    "\n",
    "    def adjustAge(self,a):\n",
    "        if a == 'Less than 25':\n",
    "            return 0\n",
    "        elif a == '25 to 45':\n",
    "            return 1\n",
    "        else:\n",
    "            return 2\n",
    "\n",
    "    # distortion metric\n",
    "    def getDistortion(self,vold,vnew):\n",
    "        '''\n",
    "        Distortion metric.\n",
    "\n",
    "        Inputs:\n",
    "        *vold : dictionary of the form {attr:value} with old values\n",
    "        *vnew : dictionary of the form {attr:value} with new values\n",
    "\n",
    "        Output\n",
    "        *d : distortion value\n",
    "        '''\n",
    "\n",
    "        # value that will be returned for events that should not occur\n",
    "        bad_val = 1e4\n",
    "\n",
    "\n",
    "        # Adjust prior\n",
    "        pOld = self.adjustPrior(vold['priors_count'])\n",
    "        pNew = self.adjustPrior(vnew['priors_count'])\n",
    "\n",
    "        # Priors cannot be increased, or lowered by more than 1 category. A change has a unit penalty\n",
    "        if (pNew>pOld)| (pNew<pOld-1):\n",
    "            return bad_val\n",
    "\n",
    "        # adjust age\n",
    "        aOld = self.adjustAge(vold['age_cat'])\n",
    "        aNew = self.adjustAge(vnew['age_cat'])\n",
    "\n",
    "        # Age cannot be increased or decreased in more than one category\n",
    "        if np.abs(aOld-aNew)>1.0:\n",
    "            return bad_val\n",
    "        \n",
    "        # Recidivism should not be increased\n",
    "        if vold['is_recid'] < vnew['is_recid']:\n",
    "            return bad_val\n",
    "        \n",
    "        cum_sum = 0.0\n",
    "        \n",
    "        \n",
    "        if np.abs(aOld-aNew)>0:\n",
    "#             cum_sum+=1\n",
    "#             cum_sum = cum_sum**2\n",
    "           cum_sum = cum_sum+1\n",
    "           \n",
    "        # Penalty of 1 if priors is decreased or increased\n",
    "        if np.abs(pNew-pOld)>0:\n",
    "#             cum_sum+=1\n",
    "#             cum_sum = cum_sum**2\n",
    "            cum_sum = cum_sum+1\n",
    "           \n",
    "\n",
    "           #cum_sum = cum_sum**2\n",
    "        if vold['is_recid'] > vnew['is_recid']:\n",
    "#             cum_sum+=1\n",
    "#             cum_sum = cum_sum**2\n",
    "            cum_sum = cum_sum+1\n",
    "           \n",
    "       \n",
    "\n",
    "       # final penalty of 2 for changing misdemeanor to felony and vice-verse\n",
    "        if vold['c_charge_degree'] != vnew['c_charge_degree']:\n",
    "#             cum_sum+=2\n",
    "#             cum_sum = cum_sum**2\n",
    "           cum_sum = cum_sum+4\n",
    "            \n",
    "        return cum_sum\n",
    "        "
   ]
  },
  {
   "cell_type": "markdown",
   "metadata": {},
   "source": [
    "We set the excess distortion constraints (`c1` and `c2`) and set the distortion values. For now, we are solving the problem (to view the equation correctly you have to run the last markdown cell of this notebook with the latex preamble)\n",
    "\n",
    "\\begin{align}\n",
    "\t\\min_{p_{\\Xh,\\Yh|X,Y,D}}& \\sum_{x,y} \\left| p_{X,Y}(x,y)- p_{\\Xh,\\Yh}(x,y)\\right| \\\\\n",
    "\t\\sto~~&  1-\\epsilon\\leq \\frac{p_{\\Yh|D}(y|d_1)}{p_{\\Yh|D}(y|d_2)} \\leq 1+\\epsilon, \\forall y\\in \\calY, d_1,d_2\\in \\calD\\\\\n",
    "\t&\\mathbb{E}\\left( d(x,y,\\Xh,\\Yh) \\mid X=x,Y=y,D=d\\right) \\leq \\delta_D~\\forall~(x,y)\\in \\calX\\times \\calY,\\\\\n",
    "\t&p_{\\Xh,\\Yh|X,Y,D} \\mbox{ is a valid distribution.}\n",
    "\\end{align}\n",
    "\n",
    "We set `c1=.99`, `c2 = 1.99`, and `c3=2.99`."
   ]
  },
  {
   "cell_type": "code",
   "execution_count": 13,
   "metadata": {
    "collapsed": true
   },
   "outputs": [],
   "source": [
    "# c1 = .99 # value of (delta1,c1): to keep.\n",
    "# c2 = 1.99  # value of (delta2,c2): value that should no happen\n",
    "# c3 = 2.99 # penalty things that should not happen\n",
    "# clist = [c1,c2, c3]\n",
    "Dclass = Dclass()\n",
    "\n",
    "DT.setDistortion(Dclass)"
   ]
  },
  {
   "cell_type": "markdown",
   "metadata": {},
   "source": [
    "Next, we generate the plot for choosing the operation points\n"
   ]
  },
  {
   "cell_type": "code",
   "execution_count": 14,
   "metadata": {
    "collapsed": false
   },
   "outputs": [
    {
     "name": "stderr",
     "output_type": "stream",
     "text": [
      "  0%|          | 0/20 [00:00<?, ?it/s]/home/bhanu/anaconda3/envs/python2/lib/python2.7/site-packages/cvxpy/problems/solvers/cbc_intf.py:140: FutureWarning: comparison to `None` will result in an elementwise object comparison in the future.\n",
      "  x = model.addVariable('x', n)\n",
      "/home/bhanu/anaconda3/envs/python2/lib/python2.7/site-packages/cylp/py/modeling/CyLPModel.py:193: FutureWarning: comparison to `None` will result in an elementwise object comparison in the future.\n",
      "  if (other == None):\n",
      "/home/bhanu/anaconda3/envs/python2/lib/python2.7/site-packages/cylp/py/modeling/CyLPModel.py:516: FutureWarning: comparison to `None` will result in an elementwise object comparison in the future.\n",
      "  if self.lower == None:\n",
      "/home/bhanu/anaconda3/envs/python2/lib/python2.7/site-packages/cvxpy/problems/solvers/cbc_intf.py:150: FutureWarning: comparison to `None` will result in an elementwise object comparison in the future.\n",
      "  model += A[0:dims[s.EQ_DIM], :] * x == b[0:dims[s.EQ_DIM]]\n",
      "100%|██████████| 20/20 [00:06<00:00,  3.06it/s]\n"
     ]
    },
    {
     "data": {
      "image/png": "[encoded data removed]",
      "text/plain": [
       "<matplotlib.figure.Figure at 0x7fefe007b0d0>"
      ]
     },
     "metadata": {},
     "output_type": "display_data"
    }
   ],
   "source": [
    "\n",
    "npoints = 20\n",
    "epsilonV = np.linspace(0,.7,npoints)\n",
    "y = np.zeros(npoints)\n",
    "z = np.zeros(npoints)\n",
    "#epsilon = .05\n",
    "meanV = np.linspace(3.45,3.46,npoints)\n",
    "#dlist = [0.15,0.075,0]\n",
    "# create same distortion for all categories\n",
    "\n",
    "# number of categories\n",
    "values = list(itertools.product(*DT.D_values))\n",
    "\n",
    "\n",
    "for i in tqdm(range(npoints)):\n",
    "    #mean = meanV[i]\n",
    "    epsilon = epsilonV[i]\n",
    "    dlist = []\n",
    "    for v in values:\n",
    "        if 'African-American' in v:\n",
    "            #mean_value = .4 #original in ICML submission - mean_value = .25\n",
    "            mean_value=.2 #used for data 3\n",
    "        else:\n",
    "            #mean_value = .3 #original in ICML submission - mean_value = .25\n",
    "            mean_value=.1 # used for data 3\n",
    "        dlist.append((v,mean_value))\n",
    "    \n",
    "    DT.optimize(epsilon=epsilon,dlist = dlist,verbose=False,cost='TV',solver='CBC')\n",
    "    y[i] = DT.optimum\n",
    "    \n",
    "y2 = np.array([max(t,0) for t in y])\n",
    "\n",
    "sns.set(font_scale=1.8,font='sans-serif')\n",
    "plt.figure(figsize = (10,5))\n",
    "ax = plt.plot(epsilonV,y2,'-',linewidth=2)\n",
    "plt.ylabel(\"Objective Value\")\n",
    "plt.xlabel(\"$\\epsilon$\")\n",
    "plt.title(\"Objective vs. $\\epsilon$\")# for\\n$\\delta_1 =$\"+str(dlist[0])+\", $\\delta_2=$\"+str(dlist[1])+\" and $\\delta_3=$\"+str(dlist[2]))\n",
    "infeasible = np.where(y==np.inf)[0]\n",
    "if len(infeasible) == 0:\n",
    "    infeasible = [-1]\n",
    "plt.axvspan(0, epsilonV[infeasible[-1]+1], color='red', alpha=0.2)\n",
    "plt.xlim([epsilonV.min(),epsilonV.max()])\n",
    "plt.ylim([-0.0001,y2[y2<np.inf].max()+0.0001])\n",
    "\n",
    "#plt.text(0.05, 0.005, r'Infeasible', fontsize=20)\n",
    "plt.tight_layout()\n",
    "#plt.savefig('./plots/tradeoff3.pdf')"
   ]
  },
  {
   "cell_type": "markdown",
   "metadata": {},
   "source": [
    "Great, let's choose an operating point for the values of distortion above. We select $\\epsilon=.2$, and a mean distortion value that is higher for African-Americans (due to inherent biases), and smaller for other groups. "
   ]
  },
  {
   "cell_type": "code",
   "execution_count": 15,
   "metadata": {
    "collapsed": true
   },
   "outputs": [],
   "source": [
    "#epsilon = .1\n",
    "epsilon=.2\n",
    "dlist = []\n",
    "for v in values:\n",
    "    if 'African-American' in v:\n",
    "        mean_value = .4 #original in ICML submission - mean_value = .25\n",
    "        #mean_value=.22\n",
    "    else:\n",
    "        mean_value = .3 #original in ICML submission - mean_value = .25\n",
    "        #mean_value=.22\n",
    "    dlist.append((v,mean_value))"
   ]
  },
  {
   "cell_type": "markdown",
   "metadata": {},
   "source": [
    "We'll print the marginals out in this case just to make sure it is operating as intended."
   ]
  },
  {
   "cell_type": "code",
   "execution_count": 16,
   "metadata": {
    "collapsed": false
   },
   "outputs": [
    {
     "name": "stdout",
     "output_type": "stream",
     "text": [
      "race              African-American  Caucasian\n",
      "race                                         \n",
      "African-American          1.000000   0.755589\n",
      "Caucasian                 1.323471   1.000000\n",
      "Discrimination (y=1)\n",
      "race              African-American  Caucasian\n",
      "race                                         \n",
      "African-American          1.000000   1.343691\n",
      "Caucasian                 0.744219   1.000000\n",
      "Discrimination (y=0)\n"
     ]
    },
    {
     "data": {
      "text/plain": [
       "0.34369127258482246"
      ]
     },
     "execution_count": 16,
     "metadata": {},
     "output_type": "execute_result"
    }
   ],
   "source": [
    "# Optimize\n",
    "DT.optimize(epsilon=epsilon,dlist = dlist,verbose=False,cost='TV',solver='CBC')\n",
    "\n",
    "# Compute marginals\n",
    "DT.computeMarginals()\n",
    "\n",
    "# This is what pyhgd will look like for y=1\n",
    "v = DT.dfPyhgD[0].values\n",
    "v = v.reshape(len(v),1)\n",
    "ratio_df = pd.DataFrame(v/v.transpose(),index=DT.dfPyhgD[0].index,columns=DT.dfPyhgD[0].index )\n",
    "print ratio_df\n",
    "\n",
    "print 'Discrimination (y=1)'\n",
    "ratio_df_arr=np.asarray(np.abs(1-ratio_df))\n",
    "discrim=np.amax(ratio_df_arr)\n",
    "discrim\n",
    "\n",
    "# This is what pyhgd will look like for y=0\n",
    "v = 1-DT.dfPyhgD[0].values\n",
    "v = v.reshape(len(v),1)\n",
    "ratio_df = pd.DataFrame(v/v.transpose(),index=DT.dfPyhgD[0].index,columns=DT.dfPyhgD[0].index )\n",
    "print ratio_df\n",
    "\n",
    "print 'Discrimination (y=0)'\n",
    "ratio_df_arr=np.asarray(np.abs(1-ratio_df))\n",
    "discrim=np.amax(ratio_df_arr)\n",
    "discrim\n"
   ]
  },
  {
   "cell_type": "markdown",
   "metadata": {},
   "source": [
    "This is an auxiliary function for helping in randomizing the dataset. It receives a dataset and a mapping, and randomizes accordingly. I'm fixing the value of the seed for numpy -- you may want to change this in order to produce fresh datasets."
   ]
  },
  {
   "cell_type": "code",
   "execution_count": 17,
   "metadata": {
    "collapsed": true
   },
   "outputs": [],
   "source": [
    "######### CHANGE SEED HERE ###########\n",
    "seed = sum([ord(b) for b in 'Bhanu'])\n",
    "np.random.seed(seed = seed)\n",
    "####################################\n",
    "\n",
    "def randomize(df, dfMap,features=[]):\n",
    "    df2 = df.copy()\n",
    "    print('Randomizing...')\n",
    "    for idx in tqdm(df2.index):\n",
    "        rowTest = df2.loc[idx,:]\n",
    "        vals = rowTest[features]\n",
    "        draw = dfMap.loc[tuple(vals.tolist())]\n",
    "        #randomly select value\n",
    "\n",
    "        mapVal = np.random.choice(range(len(draw)),p=draw.tolist())\n",
    "        draw.index[mapVal]\n",
    "        df2.loc[idx,draw.index.names] = draw.index[mapVal]\n",
    "        \n",
    "    return df2\n"
   ]
  },
  {
   "cell_type": "markdown",
   "metadata": {},
   "source": [
    "## Main loop\n",
    "\n",
    "This is where the brute of the work will be done. May take a while to run, and will print randomization progress."
   ]
  },
  {
   "cell_type": "code",
   "execution_count": 18,
   "metadata": {
    "collapsed": false,
    "scrolled": true
   },
   "outputs": [
    {
     "name": "stdout",
     "output_type": "stream",
     "text": [
      "-----------------\n",
      "Current split: 0\n"
     ]
    },
    {
     "name": "stderr",
     "output_type": "stream",
     "text": [
      "/home/bhanu/anaconda3/envs/python2/lib/python2.7/site-packages/pandas/core/base.py:324: PerformanceWarning: dropping on a non-lexsorted multi-index without a level parameter may impact performance.\n",
      "  return self.obj.drop(self.exclusions, axis=1)\n",
      "  1%|          | 25/4222 [00:00<00:17, 242.82it/s]"
     ]
    },
    {
     "name": "stdout",
     "output_type": "stream",
     "text": [
      "Randomizing training set...\n",
      "Randomizing...\n"
     ]
    },
    {
     "name": "stderr",
     "output_type": "stream",
     "text": [
      "100%|██████████| 4222/4222 [00:10<00:00, 411.20it/s]\n",
      "  5%|▍         | 49/1056 [00:00<00:02, 482.78it/s]"
     ]
    },
    {
     "name": "stdout",
     "output_type": "stream",
     "text": [
      "Randomizing test set...\n",
      "Randomizing...\n"
     ]
    },
    {
     "name": "stderr",
     "output_type": "stream",
     "text": [
      "100%|██████████| 1056/1056 [00:02<00:00, 457.10it/s]\n"
     ]
    }
   ],
   "source": [
    "result_folder = '../experiment_data3/'\n",
    "split_num = 0\n",
    "\n",
    "# iterate over pairs\n",
    "for (df_train,df_test) in df_list[1:2]:\n",
    "    file_name = str(split_num)\n",
    "    \n",
    "    print('-----------------')\n",
    "    print('Current split: '+file_name)\n",
    "\n",
    "    # initialize a new DT object\n",
    "    DT = DTools(df=df_train,features=features)\n",
    "\n",
    "    # Set features\n",
    "    DT.setFeatures(D=D_features,X=X_features,Y=Y_features)\n",
    "\n",
    "    # Set Distortion\n",
    "    DT.setDistortion(Dclass)\n",
    "\n",
    "    # solve optimization for previous parameters -- This uses and older implementation, based on the FATML submission.\n",
    "    DT.optimize(epsilon=epsilon,dlist = dlist,verbose=False,cost='TV',solver='CBC')\n",
    "\n",
    "    DT.computeMarginals()\n",
    "\n",
    "    # randomized mapping for training\n",
    "    # this is the dataframe with the randomization for the train set\n",
    "    dfPtrain = DT.dfP.applymap(lambda x : 0 if x<1e-8 else x)\n",
    "    dfPtrain = dfPtrain.divide(dfPtrain.sum(axis=1),axis=0)\n",
    "\n",
    "    # randomized mapping for testing (Beware of ugly code)\n",
    "    d1 = DT.dfFull.reset_index().groupby(D_features+X_features).sum()\n",
    "    d2 = d1.transpose().reset_index().groupby(X_features).sum()\n",
    "    dTest = d2.transpose()\n",
    "    dTest = dTest.drop(Y_features,1)\n",
    "    dTest = dTest.applymap(lambda x: x if x>1e-8 else 0)\n",
    "    dTest = dTest/dTest.sum()\n",
    "\n",
    "    # this is the dataframe with the randomization for the test set\n",
    "    dfPtest = dTest.divide(dTest.sum(axis=1),axis=0)\n",
    "\n",
    "    # Randomize train data\n",
    "    print('Randomizing training set...')\n",
    "    df_train_new = randomize(df_train,dfPtrain,features = D_features+X_features+Y_features)\n",
    "\n",
    "    # Randomize test data\n",
    "    print('Randomizing test set...')\n",
    "    df_test_new = randomize(df_test,dfPtest,features = D_features+X_features)\n",
    "\n",
    "    # Save train files\n",
    "    df_train.to_csv(result_folder+'train_'+file_name+'.csv')\n",
    "    df_train_new.to_csv(result_folder+'train_new_'+file_name+'.csv')\n",
    "\n",
    "    # Save test files\n",
    "    df_test.to_csv(result_folder+'test_'+file_name+'.csv')\n",
    "    df_test_new.to_csv(result_folder+'test_new_'+file_name+'.csv')\n",
    "    \n",
    "    # increment split number\n",
    "    split_num+=1"
   ]
  },
  {
   "cell_type": "code",
   "execution_count": 19,
   "metadata": {
    "collapsed": false
   },
   "outputs": [
    {
     "name": "stdout",
     "output_type": "stream",
     "text": [
      "----------------------------------------------------------------\n",
      "RandForrest on perturbed data:\n",
      "Train performance (pert. dataset): \n",
      "0.671482709616\n",
      "Perturbed test performance when scored on original test y variable: \n",
      "0.607954545455\n",
      "Discrimination metric:\n"
     ]
    },
    {
     "name": "stderr",
     "output_type": "stream",
     "text": [
      "/home/bhanu/anaconda3/envs/python2/lib/python2.7/site-packages/ipykernel/__main__.py:8: DataConversionWarning: A column-vector y was passed when a 1d array was expected. Please change the shape of y to (n_samples,), for example using ravel().\n"
     ]
    },
    {
     "data": {
      "text/plain": [
       "0.48052210935440565"
      ]
     },
     "execution_count": 19,
     "metadata": {},
     "output_type": "execute_result"
    }
   ],
   "source": [
    "from sklearn.ensemble import RandomForestClassifier\n",
    "print '----------------------------------------------------------------'\n",
    "print 'RandForrest on perturbed data:'\n",
    "\n",
    "# performance on perturbed train data\n",
    "rf = RandomForestClassifier()\n",
    "dft = pd.get_dummies(df_train_new[D_features+X_features])\n",
    "rf.fit(dft,df_train_new[Y_features])\n",
    "print 'Train performance (pert. dataset): '\n",
    "print rf.score(dft,df_train_new[Y_features])\n",
    "\n",
    "#dft = pd.get_dummies(df_test_new[D_features+X_features])\n",
    "#print 'Test performance (pert. dataset): '\n",
    "#print rf.score(dft,df_test_new[Y_features])\n",
    "#print '---------------'\n",
    "\n",
    "# performance on perturbed train data compared to original train data\n",
    "#rf = RandomForestClassifier()\n",
    "#dft = pd.get_dummies(df_train_new[D_features+X_features])\n",
    "#rf.fit(dft,df_train_new[Y_features])\n",
    "dft = pd.get_dummies(df_test_new[D_features+X_features])\n",
    "print 'Perturbed test performance when scored on original test y variable: '\n",
    "print rf.score(dft,df_test[Y_features])\n",
    "\n",
    "dft = pd.get_dummies(df_test_new[D_features+X_features])\n",
    "# save performance\n",
    "df_test_pred = df_test_new\n",
    "df_test_pred['pred'] = rf.predict_proba(dft)[:,1]\n",
    "\n",
    "# prediction per class\n",
    "print 'Discrimination metric:'\n",
    "mean = df_test_pred.groupby('race')['pred'].mean()\n",
    "v = mean.values\n",
    "v = v.reshape(len(v),1)\n",
    "ratio_df = pd.DataFrame(v/v.transpose(),index=mean.index,columns=mean.index )\n",
    "ratio_df_arr=np.asarray(np.abs(1-ratio_df))\n",
    "discrim=np.amax(ratio_df_arr)\n",
    "discrim\n"
   ]
  },
  {
   "cell_type": "markdown",
   "metadata": {},
   "source": [
    "## Latex preamble cell and importing packages\n",
    "$$\\newcommand{\\SNR}{\\mbox{SNR}}$$\n",
    "$$\\newcommand{\\dB}{\\mbox{dB}}$$\n",
    "$$\\newcommand{\\emu}{\\colonsim}$$\n",
    "\n",
    "$$\\newcommand{\\Fq}{\\mathbb{F}_{q}}$$\n",
    "$$\\newcommand{\\PR}{\\mbox{Pr}}$$\n",
    "$$\\newcommand{\\Lh}{\\hat{l}}$$\n",
    "$$\\newcommand{\\calX}{\\mathcal{X}}$$\n",
    "$$\\newcommand{\\calA}{\\mathcal{A}}$$\n",
    "$$\\newcommand{\\calB}{\\mathcal{B}}$$\n",
    "$$\\newcommand{\\calD}{\\mathcal{D}}$$\n",
    "$$\\newcommand{\\calK}{\\mathcal{K}}$$\n",
    "$$\\newcommand{\\calM}{\\mathcal{M}}$$\n",
    "$$\\newcommand{\\calY}{\\mathcal{Y}}$$\n",
    "$$\\newcommand{\\calT}{\\mathcal{T}}$$\n",
    "$$\\newcommand{\\calZ}{\\mathcal{Z}}$$\n",
    "$$\\newcommand{\\calJ}{\\mathcal{J}}$$\n",
    "$$\\newcommand{\\calC}{\\mathcal{C}}$$\n",
    "$$\\newcommand{\\calS}{\\mathcal{S}}$$\n",
    "$$\\newcommand{\\calU}{\\mathcal{U}}$$\n",
    "$$\\newcommand{\\calV}{\\mathcal{V}}$$\n",
    "$$\\newcommand{\\calI}{\\mathcal{I}}$$\n",
    "$$\\newcommand{\\calF}{\\mathcal{F}}$$\n",
    "$$\\newcommand{\\calG}{\\mathcal{G}}$$\n",
    "$$\\newcommand{\\calH}{\\mathcal{H}}$$\n",
    "$$\\newcommand{\\calP}{\\mathcal{P}}$$\n",
    "$$\\newcommand{\\calL}{\\mathcal{L}}$$\n",
    "$$\\newcommand{\\Xk}{\\mathcal{X}^k}$$\n",
    "$$\\newcommand{\\Xn}{\\mathcal{X}^n}$$\n",
    "$$\\newcommand{\\floor}[1]{\\lfloor #1 \\rfloor}$$\n",
    "$$\\newcommand{\\ceil}[1]{\\lceil #1 \\rceil}$$\n",
    "$$\\newcommand{\\mean}{\\mathbb{E}}$$\n",
    "$$\\newcommand{\\bc}{\\mathbf{c}}$$\n",
    "$$\\newcommand{\\bs}{\\mathbf{s}}$$\n",
    "$$\\newcommand{\\bA}{\\mathbf{A}}$$\n",
    "$$\\newcommand{\\bH}{\\mathbf{H}}$$\n",
    "$$\\newcommand{\\bG}{\\mathbf{G}}$$\n",
    "$$\\newcommand{\\bD}{\\mathbf{D}}$$\n",
    "$$\\newcommand{\\bC}{\\mathbf{C}}$$\n",
    "$$\\newcommand{\\bF}{\\mathbf{F}}$$\n",
    "$$\\newcommand{\\bB}{\\mathbf{B}}$$\n",
    "$$\\newcommand{\\bI}{\\mathbf{I}}$$\n",
    "$$\\newcommand{\\bR}{\\mathbf{R}}$$\n",
    "$$\\newcommand{\\bW}{\\mathbf{W}}$$\n",
    "$$\\newcommand{\\bY}{\\mathbf{Y}}$$\n",
    "$$\\newcommand{\\bZ}{\\mathbf{Z}}$$\n",
    "$$\\newcommand{\\bx}{\\mathbf{x}}$$\n",
    "$$\\newcommand{\\rank}{\\mbox{rank}}$$\n",
    "$$\\newcommand{\\bz}{\\mathbf{z}}$$\n",
    "$$\\newcommand{\\bX}{\\mathbf{X}}$$\n",
    "$$\\newcommand{\\br}{\\mathbf{r}}$$\n",
    "$$\\newcommand{\\bbz}{\\mathbf{z}}$$\n",
    "$$\\newcommand{\\binstr}{\\{0,1\\}} $$\n",
    "$$\\newcommand{\\supp}{\\mbox{supp}}$$\n",
    "$$\\renewcommand{\\tilde}{\\widetilde}$$\n",
    "$$\\newcommand{\\Enc}{\\mathsf{Enc}}$$\n",
    "$$\\newcommand{\\Dec}{\\mathsf{Dec}}$$\n",
    "$$\\newcommand{\\Adv}{\\mathsf{Adv}}$$\n",
    "$$\\newcommand{\\chis}{\\chi^2}$$\n",
    "$$\\newcommand{\\Xh}{\\hat{X}}$$\n",
    "$$\\newcommand{\\Dh}{\\hat{D}}$$\n",
    "$$\\newcommand{\\Yh}{\\hat{Y}}$$\n",
    "$$\\newcommand{\\Zh}{\\hat{Z}}$$\n",
    "$$\\DeclareMathOperator*{\\argmin}{\\arg\\!\\min}$$\n",
    "$$\\DeclareMathOperator*{\\argmax}{\\arg\\!\\max}$$\n",
    "$$\\newcommand{\\brk}[1]{\\langle #1 \\rangle}$$\n",
    "$$\\newcommand{\\Reals}{\\mathbb{R}}$$\n",
    "$$\\newcommand{\\normQ}[1]{\\| #1 \\|_Q}$$\n",
    "$$\\newcommand{\\normF}[1]{\\| #1 \\|_F}$$\n",
    "$$\\newcommand{\\normX}[2]{\\| #1 \\|_{#2}}$$\n",
    "$$\\newcommand{\\normEuc}[1]{\\| #1 \\|_2}$$\n",
    "$$\\newcommand{\\ox}{\\bar{x}}$$\n",
    "$$\\newcommand{\\ones}{\\mathbf{1}}$$\n",
    "$$\\newcommand{\\inertia}{\\mathcal{I}}$$\n",
    "$$\\newcommand{\\defined}{\\triangleq}$$\n",
    "$$\\newcommand{\\Tr}[1]{\\mathrm{ tr}\\left(#1 \\right)}$$\n",
    "$$\\newcommand{\\diag}[1]{\\mathrm{diag}\\left( #1 \\right)}$$\n",
    "$$\\newcommand{\\pxy}{p_{X,Y}}$$\n",
    "$$\\newcommand{\\px}{p_X}$$\n",
    "$$\\newcommand{\\py}{p_Y}$$\n",
    "$$\\newcommand{\\pxp}{p_{X'}}$$\n",
    "$$\\newcommand{\\pxgy}{p_{X|Y}}$$\n",
    "$$\\newcommand{\\pygx}{p_{Y|X}}$$\n",
    "$$\\newcommand{\\pbgx}{p_{B|X}}$$\n",
    "$$\\newcommand{\\Ppygx}[1]{\\mathbf{p}_{Y|X={#1}}}$$\n",
    "$$\\newcommand{\\pxhgx}{p_{\\Xh|X}}$$\n",
    "$$\\newcommand{\\qx}{q_X}$$\n",
    "$$\\newcommand{\\rx}{r_X}$$\n",
    "$$\\newcommand{\\ExpVal}[2]{\\mathbb{E}\\left[ #2 \\right]}$$\n",
    "$$\\newcommand{\\Mopt}{M_{\\mathrm{ML}}}$$\n",
    "$$\\newcommand{\\tZ}{\\tilde{Z}}$$\n",
    "$$\\newcommand{\\tU}{\\tilde{U}}$$\n",
    "$$\\newcommand{\\tV}{\\tilde{V}}$$\n",
    "$$\\newcommand{\\tsigma}{\\tilde{\\sigma}}$$\n",
    "$$\\newcommand{\\Pxy}{\\mathbf{P}_{X,Y}}$$\n",
    "$$\\newcommand{\\Pxnyn}{P_{X^n,Y^n}}$$\n",
    "$$\\newcommand{\\Pxyp}{P_{X',Y'}}$$\n",
    "$$\\newcommand{\\Pygx}{\\mathbf{P}_{Y|X}}$$\n",
    "$$\\newcommand{\\Pxxp}{\\bP_{X,\\Xh}}$$\n",
    "$$\\newcommand{\\Pxhgx}{P_{\\hat{X}|X}}$$\n",
    "$$\\newcommand{\\Px}{\\mathbf{p}_X}$$\n",
    "$$\\newcommand{\\Qx}{\\mathbf{q}_X}$$\n",
    "$$\\newcommand{\\Rx}{\\mathbf{r}_X}$$\n",
    "$$\\newcommand{\\Pxp}{\\mathbf{p}_{\\Xh}}$$\n",
    "$$\\newcommand{\\Py}{\\mathbf{p}_Y}$$\n",
    "$$\\newcommand{\\At}{\\tilde{\\mathbf{A}}}$$\n",
    "$$\\newcommand{\\Bt}{\\tilde{\\mathbf{B}}}$$\n",
    "$$\\newcommand{\\Ut}{\\tilde{\\mathbf{U}}}$$\n",
    "$$\\newcommand{\\Vt}{\\mathbf{\\tilde{V}}}$$\n",
    "$$\\newcommand{\\Yt}{\\tilde{Y}}$$\n",
    "$$\\newcommand{\\Zt}{\\tilde{Z}}$$\n",
    "$$\\newcommand{\\lambdat}{\\tilde{\\lambda}}$$\n",
    "$$\\newcommand{\\Sigmat}{\\tilde{\\mathbf{\\Sigma}}}$$\n",
    "$$\\newcommand{\\by}{\\mathbf{y}}$$\n",
    "$$\\newcommand{\\Lb}{L}$$\n",
    "$$\\newcommand{\\blambda}{\\pmb{\\lambda}}$$\n",
    "$$\\newcommand{\\blambdat}{\\tilde{\\pmb{\\lambda}}}$$\n",
    "$$\\newcommand{\\bLambda}{\\pmb{\\Lambda}}$$\n",
    "$$\\newcommand{\\Emat}{\\mathbf{F}}$$\n",
    "$$\\newcommand{\\bu}{\\mathbf{u}}$$\n",
    "$$\\newcommand{\\bv}{\\mathbf{v}}$$\n",
    "$$\\newcommand{\\ba}{\\mathbf{a}}$$\n",
    "$$\\newcommand{\\bb}{\\mathbf{b}}$$\n",
    "$$\\newcommand{\\btu}{\\tilde{\\mathbf{u}}}$$\n",
    "$$\\newcommand{\\btv}{\\tilde{\\mathbf{v}}}$$\n",
    "$$\\newcommand{\\tu}{\\tilde{u}}$$\n",
    "$$\\newcommand{\\tv}{\\tilde{v}}$$\n",
    "$$\\newcommand{\\olU}{\\overline{\\mathbf{U}}}$$\n",
    "$$\\newcommand{\\deriv}[2]{\\frac{\\delta #1}{\\delta #2}}$$\n",
    "$$\\newcommand{\\sto}{\\mbox{s.t.}}$$\n",
    "$$\\newcommand{\\KFnorm}[2]{\\| #1 \\|_{#2}}$$\n",
    "$$\\newcommand{\\Imeas}{J}$$\n",
    "$$\\newcommand{\\bigO}{O}$$\n",
    "$$\\newcommand{\\ttheta}{\\tilde{\\theta}}$$\n",
    "$$\\newcommand{\\Var}[2]{\\mathrm{Var}_{#1}#2 }$$\n",
    "$$\\newcommand{\\whf}{\\widehat{f}}$$\n",
    "$$\\newcommand{\\whg}{\\widehat{g}}$$\n",
    "$$\\newcommand{\\ft}{\\tilde{f}}$$\n",
    "$$%\\newcommand{\\pbgx}{p_{B|X^n}}$$\n",
    "$$\\newcommand{\\pbgy}{p_{B|Y^n}}$$\n",
    "$$\\newcommand{\\whh}{\\widehat{h}}$$\n",
    "$$\\newcommand{\\EE}[1]{\\ExpVal{}{#1}}$$\n",
    "$$\\newcommand{\\whB}{\\widehat{B}}$$\n",
    "$$\\newcommand{\\wbeta}{\\widehat{\\beta}}$$\n",
    "$$\\newcommand{\\xb}{\\mathbf{x}}$$\n",
    "$$\\newcommand{\\yb}{\\mathbf{y}}$$\n",
    "$$\\newcommand{\\fb}{\\mathbf{f}}$$\n",
    "$$\\newcommand{\\gb}{\\mathbf{g}}$$\n",
    "$$\\newcommand{\\bP}{\\mathbf{P}}$$\n",
    "$$\\newcommand{\\eye}{\\mathbf{I}}$$\n",
    "$$\\newcommand{\\bQ}{\\mathbf{Q}}$$\n",
    "$$\\newcommand{\\bU}{\\mathbf{U}}$$\n",
    "$$\\newcommand{\\bSigma}{\\mathbf{\\Sigma}}$$\n",
    "$$\\newcommand{\\bsigma}{\\boldsymbol\\sigma}$$\n",
    "$$\\newcommand{\\bV}{\\mathbf{V}}$$\n",
    "$$\\newcommand{\\bT}{\\mathbf{T}}$$\n",
    "$$\\newcommand{\\bbH}{\\mathbf{H}}$$\n",
    "$$\\newcommand{\\brho}{\\boldsymbol{\\rho}}$$\n",
    "$$\\newcommand{\\suchthat}{\\,\\mid\\,}$$\n",
    "$$\\newcommand{\\indicator}{\\mathds{1}}$$\n",
    "$$\\newcommand{\\mmse}{\\mathsf{mmse}}$$\n",
    "$$\\newcommand{\\error}{\\mathsf{e}}$$\n",
    "$$\\newcommand{\\calN}{\\mathcal{N}}$$\n",
    "$$\\newcommand{\\cwd}{\\{1,\\dots,2^{nR} \\}}$$\n",
    "$$\\newcommand{\\Ps}{\\mathbf{p}_S}$$\n",
    "$$\\newcommand{\\bw}{\\mathbf{w}}$$\n",
    "$$\\newcommand{\\TV}{\\mathsf{TV}}$$\n",
    "$$\\newcommand{\\lse}{\\mathsf{lmmse}}$$\n",
    "$$\\newcommand{\\dks}{d_{\\mathrm{KS}}}$$\n",
    "$$\\newcommand{\\Xt}{\\widetilde{X}}$$\n",
    "$$\\newcommand{\\xh}{\\hat{x}}$$\n",
    "$$\\newcommand{\\vs}{v^*(p_{S,X})}$$\n",
    "$$\\newcommand{\\dps}{\\delta(p_{S,X})}$$\n",
    "$$\\newcommand{\\bp}{\\mathbf{p}}$$\n",
    "$$\\newcommand{\\bq}{\\mathbf{q}}$$\n",
    "$$\\newcommand{\\simplex}{\\Delta}$$\n",
    "$$\\newcommand\\independent{\\protect\\mathpalette{\\protect\\independenT}{\\perp}}$$\n",
    "$$\\def\\independenT#1#2{\\mathrel{\\rlap{$#1#2$}\\mkern2mu{#1#2}}}$$\n",
    "$$\\newcommand{\\KC}{\\calJ}$$\n",
    "$$\\newcommand{\\Fsym}{\\calF_{\\mathrm{sym}}}$$\n",
    "$$\\newcommand{\\bg}{\\mathbf{g}}$$\n",
    "$$\\newcommand{\\Dx}{\\mathbf{D}_X}$$\n",
    "$$\\newcommand{\\Dy}{\\mathbf{D}_Y}$$\n",
    "\n",
    "End load."
   ]
  },
  {
   "cell_type": "code",
   "execution_count": null,
   "metadata": {
    "collapsed": true
   },
   "outputs": [],
   "source": []
  }
 ],
 "metadata": {
  "anaconda-cloud": {},
  "kernelspec": {
   "display_name": "Python 2",
   "language": "python",
   "name": "python2"
  },
  "language_info": {
   "codemirror_mode": {
    "name": "ipython",
    "version": 2
   },
   "file_extension": ".py",
   "mimetype": "text/x-python",
   "name": "python",
   "nbconvert_exporter": "python",
   "pygments_lexer": "ipython2",
   "version": "2.7.13"
  },
  "latex_envs": {
   "bibliofile": "biblio.bib",
   "cite_by": "apalike",
   "current_citInitial": 1,
   "eqLabelWithNumbers": true,
   "eqNumInitial": 0
  }
 },
 "nbformat": 4,
 "nbformat_minor": 1
}
